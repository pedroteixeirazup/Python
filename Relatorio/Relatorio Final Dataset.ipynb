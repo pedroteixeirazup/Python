{
 "cells": [
  {
   "cell_type": "code",
   "execution_count": 3,
   "metadata": {},
   "outputs": [],
   "source": [
    "import pandas as pd\n",
    "import matplotlib.pyplot as plt\n",
    "from datetime import datetime\n",
    "import pytz\n",
    "import numpy as np"
   ]
  },
  {
   "cell_type": "markdown",
   "metadata": {},
   "source": [
    "# Realiza o cálculo que determina a situação do motorista. Sendo elas, atrasado, adiantado ou sem atraso"
   ]
  },
  {
   "cell_type": "code",
   "execution_count": 4,
   "metadata": {},
   "outputs": [],
   "source": [
    "def df_hours(hora_prevista, hora_entreposto):\n",
    "    \n",
    "    dif = hora_prevista - hora_entreposto\n",
    "    dif_in_s = dif.total_seconds()\n",
    "    dias = divmod(dif_in_s,86400)\n",
    "    horas = divmod(dias[1],3600)\n",
    "    minutos = divmod(horas[1],60)\n",
    "    segundos = divmod(minutos[1],1)\n",
    "    \n",
    "    if dias[0] >= 1 or (horas[0] >= 1 and minutos[0] >= 1):\n",
    "         return 'ATRASADO'\n",
    "    elif dias[0] <= -1 or (horas[0] >= 1 and minutos[0] >= 1):\n",
    "        return 'ADIANTADO'\n",
    "    else:\n",
    "        return 'PONTUAL'"
   ]
  },
  {
   "cell_type": "markdown",
   "metadata": {},
   "source": [
    "# Filtros de produtos que os camionhoneiro transporta e de sua situação"
   ]
  },
  {
   "cell_type": "code",
   "execution_count": 5,
   "metadata": {},
   "outputs": [],
   "source": [
    "def __filter(produto):\n",
    "    \n",
    "    soja = list(filter(lambda x: x == 'Soja' or x == 'Soja Cargil'\n",
    "                       or x == 'Soja Cutrale', produto))\n",
    "    milho= list(filter(lambda x: x == 'Milho', produto))\n",
    "    \n",
    "    return soja, milho\n",
    "    \n",
    "def __filter_situations(situations):\n",
    "    atrasado = list(filter(lambda x:x == 'ATRASADO', situations))\n",
    "    adiantado = list(filter(lambda x:x == 'ADIANTADO', situations))\n",
    "    pontual = list(filter(lambda x:x == 'PONTUAL', situations))\n",
    "    \n",
    "    return atrasado, adiantado, pontual"
   ]
  },
  {
   "cell_type": "markdown",
   "metadata": {},
   "source": [
    "# Cria um Dataframe separando os produtos por mês"
   ]
  },
  {
   "cell_type": "code",
   "execution_count": 6,
   "metadata": {},
   "outputs": [],
   "source": [
    "def product_per_month(agendamento,produto):\n",
    "    timezone = pytz.timezone('America/Sao_Paulo')\n",
    "    lenght = len(agendamento)\n",
    "    agendamento_set = set()\n",
    "    dic = {}\n",
    "    produtos = list()\n",
    "    k = 0\n",
    "    \n",
    "    mes_01 = list()\n",
    "    mes_02 = list()\n",
    "    mes_03 = list()\n",
    "    mes_04 = list()\n",
    "    mes_05 = list()\n",
    "    mes_06 = list()\n",
    "    mes_07 = list()\n",
    "    mes_08 = list()\n",
    "    mes_09 = list()\n",
    "    mes_10 = list()\n",
    "    mes_11 = list()\n",
    "    mes_12 = list()\n",
    "    \n",
    "    for i in range(len(agendamento)):\n",
    "        if pd.isna(agendamento[i]):\n",
    "            continue\n",
    "        else:\n",
    "            time_agendamento = datetime.strptime(agendamento[i], '%d/%m/%Y %H:%M:%S')\n",
    "            timezone_date_agendamento = timezone.localize(time_agendamento)\n",
    "            agendamento_set.add(int(str(timezone_date_agendamento.month)))\n",
    "            \n",
    "            if timezone_date_agendamento.month == 1:\n",
    "                mes_01.append(produto[i])\n",
    "            elif timezone_date_agendamento.month == 2:\n",
    "                mes_02.append(produto[i])\n",
    "            elif timezone_date_agendamento.month == 3:\n",
    "                mes_03.append(produto[i])\n",
    "            elif timezone_date_agendamento.month == 4:\n",
    "                mes_04.append(produto[i])\n",
    "            elif timezone_date_agendamento.month == 5:\n",
    "                mes_05.append(produto[i])\n",
    "            elif timezone_date_agendamento.month == 6:\n",
    "                mes_06.append(produto[i])\n",
    "            elif timezone_date_agendamento.month == 7:\n",
    "                mes_07.append(produto[i])\n",
    "            elif timezone_date_agendamento.month == 8:\n",
    "                mes_08.append(produto[i])\n",
    "            elif timezone_date_agendamento.month == 9:\n",
    "                mes_09.append(produto[i])\n",
    "            elif timezone_date_agendamento.month == 10:\n",
    "                mes_10.append(produto[i])\n",
    "            elif timezone_date_agendamento.month == 11:\n",
    "                mes_11.append(produto[i])\n",
    "            elif timezone_date_agendamento.month == 12:\n",
    "                mes_12.append(produto[i])\n",
    "\n",
    "    dic = dict.fromkeys(agendamento_set, [])\n",
    "    df = pd.DataFrame(list(zip(mes_01,mes_02,mes_03,mes_04,mes_05,\n",
    "            mes_06,mes_07,mes_08,mes_09,mes_10,\n",
    "            mes_11,mes_12)),columns=list(agendamento_set))\n",
    "  \n",
    "    return df  "
   ]
  },
  {
   "cell_type": "markdown",
   "metadata": {},
   "source": [
    "# Cria um Dataframe separando as situações dos caminhoneiros em cada mês"
   ]
  },
  {
   "cell_type": "code",
   "execution_count": 7,
   "metadata": {},
   "outputs": [],
   "source": [
    "def arrival_per_month(agendamento, chegada_prevista, chegada_entreposto):\n",
    "    timezone = pytz.timezone('America/Sao_Paulo')\n",
    "    agendamento_set = set()\n",
    "    \n",
    "    mes_01 = list()\n",
    "    mes_02 = list()\n",
    "    mes_03 = list()\n",
    "    mes_04 = list()\n",
    "    mes_05 = list()\n",
    "    mes_06 = list()\n",
    "    mes_07 = list()\n",
    "    mes_08 = list()\n",
    "    mes_09 = list()\n",
    "    mes_10 = list()\n",
    "    mes_11 = list()\n",
    "    mes_12 = list()\n",
    "    \n",
    "    for i in range(len(agendamento)):\n",
    "        if pd.isna(agendamento[i]) and pd.isna(chegada_prevista) and pd.isna(chegada_entreposto):\n",
    "            continue\n",
    "        else:\n",
    "            time_agendamento = datetime.strptime(agendamento[i], '%d/%m/%Y %H:%M:%S')\n",
    "            timezone_date_agendamento = timezone.localize(time_agendamento)\n",
    "            agendamento_set.add(int(str(timezone_date_agendamento.month)))\n",
    "            \n",
    "            time_prevista = datetime.strptime(chegada_prevista[i], '%d/%m/%Y %H:%M:%S')\n",
    "            timezone_date_obj_prevista = timezone.localize(time_prevista)\n",
    "            \n",
    "            time_entreposto = datetime.strptime(chegada_entreposto[i],'%d/%m/%Y %H:%M:%S')\n",
    "            timezone_date_obj_entreposto = timezone.localize(time_entreposto)\n",
    "            \n",
    "\n",
    "            if timezone_date_agendamento.month == 1:\n",
    "                mes_01.append(df_hours(timezone_date_obj_entreposto, timezone_date_obj_prevista))\n",
    "            elif timezone_date_agendamento.month == 2:\n",
    "                mes_02.append(df_hours(timezone_date_obj_entreposto, timezone_date_obj_prevista))\n",
    "            elif timezone_date_agendamento.month == 3:\n",
    "                mes_03.append(df_hours(timezone_date_obj_entreposto, timezone_date_obj_prevista))\n",
    "            elif timezone_date_agendamento.month == 4:\n",
    "                mes_04.append(df_hours(timezone_date_obj_entreposto, timezone_date_obj_prevista))\n",
    "            elif timezone_date_agendamento.month == 5:\n",
    "                mes_05.append(df_hours(timezone_date_obj_entreposto, timezone_date_obj_prevista))\n",
    "            elif timezone_date_agendamento.month == 6:\n",
    "                mes_06.append(df_hours(timezone_date_obj_entreposto, timezone_date_obj_prevista))\n",
    "            elif timezone_date_agendamento.month == 7:\n",
    "                mes_07.append(df_hours(timezone_date_obj_entreposto, timezone_date_obj_prevista))\n",
    "            elif timezone_date_agendamento.month == 8:\n",
    "                mes_08.append(df_hours(timezone_date_obj_entreposto, timezone_date_obj_prevista))\n",
    "            elif timezone_date_agendamento.month == 9:\n",
    "                mes_09.append(df_hours(timezone_date_obj_entreposto, timezone_date_obj_prevista))\n",
    "            elif timezone_date_agendamento.month == 10:\n",
    "                mes_10.append(df_hours(timezone_date_obj_entreposto, timezone_date_obj_prevista))\n",
    "            elif timezone_date_agendamento.month == 11:\n",
    "                mes_11.append(df_hours(timezone_date_obj_entreposto, timezone_date_obj_prevista))\n",
    "            elif timezone_date_agendamento.month == 12:\n",
    "                mes_12.append(df_hours(timezone_date_obj_entreposto, timezone_date_obj_prevista))\n",
    "                \n",
    "                \n",
    "    dic = dict.fromkeys(agendamento_set, [])\n",
    "    df = pd.DataFrame(list(zip(mes_01,mes_02,mes_03,mes_04,mes_05,\n",
    "            mes_06,mes_07,mes_08,mes_09,mes_10,\n",
    "            mes_11,mes_12)),columns=list(agendamento_set))\n",
    "    \n",
    "    return df "
   ]
  },
  {
   "cell_type": "markdown",
   "metadata": {},
   "source": [
    "# Leitura do arquivo csv"
   ]
  },
  {
   "cell_type": "code",
   "execution_count": 8,
   "metadata": {},
   "outputs": [],
   "source": [
    "#MAIN\n",
    "df = pd.read_csv('data/final-dataset1.csv',engine='python')\n",
    "\n",
    "chegada_prevista, chegada_entreposto =  df['Chegada Prevista'], df['Chegada ao Entreposto']\n",
    "produto = df['Produto']\n",
    "agendamento = df['Agendamento']"
   ]
  },
  {
   "cell_type": "markdown",
   "metadata": {},
   "source": [
    "# Gráfico de pizza dos produtos"
   ]
  },
  {
   "cell_type": "code",
   "execution_count": 9,
   "metadata": {},
   "outputs": [
    {
     "data": {
      "image/png": "[encoded data removed]",
      "text/plain": [
       "<Figure size 432x288 with 1 Axes>"
      ]
     },
     "metadata": {},
     "output_type": "display_data"
    }
   ],
   "source": [
    "#Grafico de pizza do produto\n",
    "soja, milho = __filter(produto)\n",
    "\n",
    "labels = 'SOJA', 'MILHO'\n",
    "sizes = [len(soja), len(milho)]\n",
    "explode = (0,0.1)\n",
    "\n",
    "fig1, ax1 = plt.subplots()\n",
    "ax1.pie(sizes, explode = explode, labels = labels, autopct = '%1.1f%%', shadow = True, startangle = 90)\n",
    "ax1.axis('equal')\n",
    "plt.title('Produtos')\n",
    "plt.show()\n"
   ]
  },
  {
   "cell_type": "markdown",
   "metadata": {},
   "source": [
    "# Gráfico de barras de produtos por mês"
   ]
  },
  {
   "cell_type": "code",
   "execution_count": 10,
   "metadata": {},
   "outputs": [
    {
     "data": {
      "image/png": "[encoded data removed]",
      "text/plain": [
       "<Figure size 432x288 with 1 Axes>"
      ]
     },
     "metadata": {
      "needs_background": "light"
     },
     "output_type": "display_data"
    }
   ],
   "source": [
    "#Grafico de barras\n",
    "df = product_per_month(agendamento,produto)\n",
    "N = 12\n",
    "soja_01, milho_01 = __filter(df[1])\n",
    "soja_02, milho_02 = __filter(df[2])\n",
    "soja_03, milho_03 = __filter(df[3])\n",
    "soja_04, milho_04 = __filter(df[4])\n",
    "soja_05, milho_05 = __filter(df[5])\n",
    "soja_06, milho_06 = __filter(df[6])\n",
    "soja_07, milho_07 = __filter(df[7])\n",
    "soja_08, milho_08 = __filter(df[8])\n",
    "soja_09, milho_09 = __filter(df[9])\n",
    "soja_10, milho_10 = __filter(df[10])\n",
    "soja_11, milho_11 = __filter(df[11])\n",
    "soja_12, milho_12 = __filter(df[12])\n",
    "\n",
    "soja_means = (len(soja_01),len(soja_02), len(soja_03), len(soja_04), len(soja_05), len(soja_06),\n",
    "             len(soja_07), len(soja_08), len(soja_09), len(soja_10), len(soja_11), len(soja_12))\n",
    "\n",
    "milho_means = (len(milho_01),len(milho_02), len(milho_03), len(milho_04), len(milho_05), len(milho_06),\n",
    "             len(milho_07), len(milho_08), len(milho_09), len(milho_10), len(milho_11), len(milho_12))\n",
    "\n",
    "ind = np.arange(N) # x \n",
    "width = 0.50\n",
    "\n",
    "soja = plt.bar(ind, soja_means, width)\n",
    "milho = plt.bar(ind,milho_means, width)\n",
    "\n",
    "plt.ylabel('Quantidade')\n",
    "plt.title('Produtos por mês')\n",
    "plt.xticks(ind, ('Jan', 'Fev', 'Marc', 'Abr', 'Maio', 'Jun', 'Jul',\n",
    "                 'Agos', 'Set', 'Out', 'Nov', 'Dez'))\n",
    "plt.yticks(np.arange(0,5000,500))\n",
    "plt.legend((soja[0],milho[0]), ('Soja','Milho'))\n",
    "\n",
    "plt.show()\n",
    "\n",
    "\n"
   ]
  },
  {
   "cell_type": "markdown",
   "metadata": {},
   "source": [
    "# Gráfico de barras da situação dos caminhoneiros por mês"
   ]
  },
  {
   "cell_type": "code",
   "execution_count": 11,
   "metadata": {},
   "outputs": [
    {
     "data": {
      "image/png": "[encoded data removed]",
      "text/plain": [
       "<Figure size 432x288 with 1 Axes>"
      ]
     },
     "metadata": {
      "needs_background": "light"
     },
     "output_type": "display_data"
    }
   ],
   "source": [
    "#Grafio atrasados, adiantados,pontuais\n",
    "df_situations = arrival_per_month(agendamento,chegada_prevista,chegada_entreposto)\n",
    "\n",
    "N = 12\n",
    "atrasado1, adiantado1, pontual1 = __filter_situations(df_situations[1])\n",
    "atrasado2, adiantado2, pontual2 = __filter_situations(df_situations[2])\n",
    "atrasado3, adiantado3, pontual3 = __filter_situations(df_situations[3])\n",
    "atrasado4, adiantado4, pontual4 = __filter_situations(df_situations[4])\n",
    "atrasado5, adiantado5, pontual5 = __filter_situations(df_situations[5])\n",
    "atrasado6, adiantado6, pontual6 = __filter_situations(df_situations[6])\n",
    "atrasado7, adiantado7, pontual7 = __filter_situations(df_situations[7])\n",
    "atrasado8, adiantado8, pontual8 = __filter_situations(df_situations[8])\n",
    "atrasado9, adiantado9, pontual9 = __filter_situations(df_situations[9])\n",
    "atrasado10, adiantado10, pontual10 = __filter_situations(df_situations[10])\n",
    "atrasado11, adiantado11, pontual11 = __filter_situations(df_situations[11])\n",
    "atrasado12, adiantado12, pontual12 = __filter_situations(df_situations[12])\n",
    "\n",
    "atrasado_means = (len(atrasado1),len(atrasado2), len(atrasado3), len(atrasado4), len(atrasado5), len(atrasado6),\n",
    "             len(atrasado7), len(atrasado8), len(atrasado9), len(atrasado10), len(atrasado11), len(atrasado12))\n",
    "\n",
    "adiantado_means = (len(adiantado1),len(adiantado2), len(adiantado3), len(adiantado4), len(adiantado5), len(adiantado6),\n",
    "             len(adiantado7), len(adiantado8), len(adiantado9), len(adiantado10), len(adiantado11), len(adiantado12))\n",
    "\n",
    "pontual_means = (len(pontual1),len(pontual2), len(pontual3), len(pontual4), len(pontual5), len(pontual6),\n",
    "             len(pontual7), len(pontual8), len(pontual9), len(pontual10), len(pontual11), len(pontual12))\n",
    "\n",
    "ind = np.arange(N)\n",
    "width = 0.50\n",
    "\n",
    "atrasado = plt.bar(ind,atrasado_means,width)\n",
    "adiantado = plt.bar(ind,adiantado_means, width)\n",
    "pontual = plt.bar(ind, pontual_means, width)\n",
    "\n",
    "plt.ylabel('Quantidade por situações')\n",
    "plt.title('Situações por mês')\n",
    "plt.xticks(ind, ('Jan', 'Fev', 'Marc', 'Abr', 'Maio', 'Jun', 'Jul',\n",
    "                 'Agos', 'Set', 'Out', 'Nov', 'Dez'))\n",
    "plt.yticks(np.arange(0,5000,500))\n",
    "plt.legend((atrasado[0],adiantado[0],pontual[0]), ('Atrasado','Adiantado','Pontual'))\n",
    "\n",
    "plt.show()\n"
   ]
  },
  {
   "cell_type": "code",
   "execution_count": null,
   "metadata": {},
   "outputs": [],
   "source": []
  },
  {
   "cell_type": "code",
   "execution_count": null,
   "metadata": {},
   "outputs": [],
   "source": []
  }
 ],
 "metadata": {
  "kernelspec": {
   "display_name": "Python 3",
   "language": "python",
   "name": "python3"
  },
  "language_info": {
   "codemirror_mode": {
    "name": "ipython",
    "version": 3
   },
   "file_extension": ".py",
   "mimetype": "text/x-python",
   "name": "python",
   "nbconvert_exporter": "python",
   "pygments_lexer": "ipython3",
   "version": "3.7.4"
  }
 },
 "nbformat": 4,
 "nbformat_minor": 2
}
