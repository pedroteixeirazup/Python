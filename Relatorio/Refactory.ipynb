{
 "cells": [
  {
   "cell_type": "code",
   "execution_count": 152,
   "metadata": {},
   "outputs": [],
   "source": [
    "import pandas as pd\n",
    "import matplotlib.pyplot as plt\n",
    "from datetime import timedelta, datetime\n",
    "import numpy as np"
   ]
  },
  {
   "cell_type": "markdown",
   "metadata": {},
   "source": [
    "# Função para calcular atrasados, adiantos e pontuais"
   ]
  },
  {
   "cell_type": "code",
   "execution_count": 153,
   "metadata": {},
   "outputs": [],
   "source": [
    "def df_hours(x):\n",
    "    hora_prevista = x['CH_prevista']\n",
    "    hora_entreposto = x['CH_entreposto']\n",
    "    maximo = hora_prevista + timedelta(hours=1,minutes=1)\n",
    "    minimo = hora_prevista - timedelta(hours=1,minutes=1)\n",
    "        \n",
    "    if hora_entreposto > maximo:\n",
    "        return 'atrasado'\n",
    "    elif hora_entreposto < minimo:\n",
    "        return 'adiantado'\n",
    "    else:\n",
    "        return 'pontual'\n",
    "  "
   ]
  },
  {
   "cell_type": "markdown",
   "metadata": {},
   "source": [
    "# Leitura do CSV e gráfico de viagens dos motoristas"
   ]
  },
  {
   "cell_type": "code",
   "execution_count": 154,
   "metadata": {},
   "outputs": [
    {
     "data": {
      "image/png": "[encoded data removed]",
      "text/plain": [
       "<Figure size 432x288 with 1 Axes>"
      ]
     },
     "metadata": {},
     "output_type": "display_data"
    }
   ],
   "source": [
    "df = pd.read_csv('data/final-dataset1.csv',encoding='ISO-8859-1', low_memory=False)\n",
    "\n",
    "pd.set_option('display.max_columns', None)\n",
    "\n",
    "df['CH_entreposto'] = pd.to_datetime(df['Chegada ao Entreposto'], format='%d/%m/%Y %H:%M:%S')\n",
    "df['CH_prevista'] = pd.to_datetime(df['Chegada Prevista'], format='%d/%m/%Y %H:%M:%S')\n",
    "\n",
    "times = list()\n",
    "\n",
    "\n",
    "df['Pontos'] = df[['CH_prevista', 'CH_entreposto']].apply(df_hours,axis=1)\n",
    "\n",
    "atrasados = list(filter(lambda x: x=='atrasado', df['Pontos']))\n",
    "pontuais = list(filter(lambda x: x=='pontual', df['Pontos']))\n",
    "adiantados = list(filter(lambda x: x=='adiantado', df['Pontos']))\n",
    "\n",
    "\n",
    "labels = 'ADIANTADO', 'ATRASADO', 'PONTUAL'\n",
    "sizes = [len(adiantados), len(atrasados), len (pontuais)]\n",
    "explode = (0.2,0.1,0)\n",
    "fig1, ax1 = plt.subplots()\n",
    "ax1.pie(sizes, explode = explode, labels = labels, autopct = '%1.1f%%', shadow = True, startangle = 90)\n",
    "plt.title('VIAGENS DE 2018')\n",
    "plt.show()\n",
    "    \n"
   ]
  },
  {
   "cell_type": "code",
   "execution_count": 155,
   "metadata": {},
   "outputs": [],
   "source": [
    "def p_month(meses,produtos):\n",
    "    meses_set = meses.unique()\n",
    "\n",
    "    \n",
    "    mes_01 = list()\n",
    "    mes_02 = list()\n",
    "    mes_03 = list()\n",
    "    mes_04 = list()\n",
    "    mes_05 = list()\n",
    "    mes_06 = list()\n",
    "    mes_07 = list()\n",
    "    mes_08 = list()\n",
    "    mes_09 = list()\n",
    "    mes_10 = list()\n",
    "    mes_11 = list()\n",
    "    mes_12 = list()\n",
    "    \n",
    "    for i in range(len(meses)):\n",
    "        if meses[i] == 1:\n",
    "                mes_01.append(produtos[i])\n",
    "        elif meses[i] == 2:\n",
    "                mes_02.append(produtos[i])\n",
    "        elif meses[i] == 3:\n",
    "                mes_03.append(produtos[i])\n",
    "        elif meses[i] == 4:\n",
    "                mes_04.append(produtos[i])\n",
    "        elif meses[i] == 5:\n",
    "                mes_05.append(produtos[i])\n",
    "        elif meses[i] == 6:\n",
    "                mes_06.append(produtos[i])\n",
    "        elif meses[i] == 7:\n",
    "                mes_07.append(produtos[i])\n",
    "        elif meses[i] == 8:\n",
    "                mes_08.append(produtos[i])\n",
    "        elif meses[i] == 9:\n",
    "                mes_09.append(produtos[i])\n",
    "        elif meses[i] == 10:\n",
    "                mes_10.append(produtos[i])\n",
    "        elif meses[i] == 11:\n",
    "                mes_11.append(produtos[i])\n",
    "        elif meses[i] == 12:\n",
    "                mes_12.append(produtos[i])\n",
    "    \n",
    "    dic = dict.fromkeys(meses_set, [])\n",
    "    df = pd.DataFrame(list(zip(mes_01,mes_02,mes_03,mes_04,mes_05,\n",
    "            mes_06,mes_07,mes_08,mes_09,mes_10,\n",
    "            mes_11,mes_12)),columns=list(meses_set))        \n",
    "    return df"
   ]
  },
  {
   "cell_type": "code",
   "execution_count": 156,
   "metadata": {},
   "outputs": [],
   "source": [
    "def __filter(produto):\n",
    "    \n",
    "    soja = list(filter(lambda x: x == 'Soja' or x == 'Soja Cargil'\n",
    "                       or x == 'Soja Cutrale', produto))\n",
    "    milho= list(filter(lambda x: x == 'Milho', produto))\n",
    "    \n",
    "    return soja, milho"
   ]
  },
  {
   "cell_type": "markdown",
   "metadata": {},
   "source": [
    "# Gráfico dos produtos por mês"
   ]
  },
  {
   "cell_type": "code",
   "execution_count": 157,
   "metadata": {},
   "outputs": [
    {
     "name": "stdout",
     "output_type": "stream",
     "text": [
      "Soja    4960\n",
      "IR_s       1\n",
      "Name: 5, dtype: int64\n"
     ]
    },
    {
     "data": {
      "image/png": "[encoded data removed]",
      "text/plain": [
       "<Figure size 432x288 with 1 Axes>"
      ]
     },
     "metadata": {
      "needs_background": "light"
     },
     "output_type": "display_data"
    }
   ],
   "source": [
    "df['Meses'] = pd.to_datetime(df['Agendamento'], format='%d/%m/%Y %H:%M:%S').dt.month\n",
    "p_m = df[['Meses', 'Produto']].groupby('Meses')\n",
    "\n",
    "N = 12\n",
    "df_prod = p_month(df['Meses'], df['Produto'])\n",
    "\n",
    "print(df_prod[5].value_counts())\n",
    "\n",
    "soja_01, milho_01 = __filter(df_prod[1])\n",
    "soja_02, milho_02 = __filter(df_prod[2])\n",
    "soja_03, milho_03 = __filter(df_prod[3])\n",
    "soja_04, milho_04 = __filter(df_prod[4])\n",
    "soja_05, milho_05 = __filter(df_prod[5])\n",
    "soja_06, milho_06 = __filter(df_prod[6])\n",
    "soja_07, milho_07 = __filter(df_prod[7])\n",
    "soja_08, milho_08 = __filter(df_prod[8])\n",
    "soja_09, milho_09 = __filter(df_prod[9])\n",
    "soja_10, milho_10 = __filter(df_prod[10])\n",
    "soja_11, milho_11 = __filter(df_prod[11])\n",
    "soja_12, milho_12 = __filter(df_prod[12])\n",
    "\n",
    "soja_means = (len(soja_01),len(soja_02), len(soja_03), len(soja_04), len(soja_05), len(soja_06),\n",
    "             len(soja_07), len(soja_08), len(soja_09), len(soja_10), len(soja_11), len(soja_12))\n",
    "\n",
    "milho_means = (len(milho_01),len(milho_02), len(milho_03), len(milho_04), len(milho_05), len(milho_06),\n",
    "             len(milho_07), len(milho_08), len(milho_09), len(milho_10), len(milho_11), len(milho_12))\n",
    "\n",
    "ind = np.arange(N) # x \n",
    "width = 0.50\n",
    "\n",
    "soja = plt.bar(ind, soja_means, width)\n",
    "milho = plt.bar(ind,milho_means, width)\n",
    "\n",
    "plt.ylabel('Quantidade')\n",
    "plt.title('Produtos por mês')\n",
    "plt.xticks(ind, ('Jan', 'Fev', 'Marc', 'Abr', 'Maio', 'Jun', 'Jul',\n",
    "                 'Agos', 'Set', 'Out', 'Nov', 'Dez'))\n",
    "plt.yticks(np.arange(0,5000,500))\n",
    "plt.legend((soja[0],milho[0]), ('Soja','Milho'))\n",
    "\n",
    "plt.show()\n"
   ]
  },
  {
   "cell_type": "markdown",
   "metadata": {},
   "source": [
    "# Gráfico das situações dos caminhoneiros por mês"
   ]
  },
  {
   "cell_type": "code",
   "execution_count": 158,
   "metadata": {},
   "outputs": [
    {
     "data": {
      "image/png": "[encoded data removed]",
      "text/plain": [
       "<Figure size 432x288 with 1 Axes>"
      ]
     },
     "metadata": {
      "needs_background": "light"
     },
     "output_type": "display_data"
    }
   ],
   "source": [
    "pontos_m = df[['Meses', 'Pontos']].groupby('Meses')['Pontos'].apply(lambda tags: ' '.join(tags))\n",
    "pontos_m1 = df[['Meses', 'Pontos']].groupby('Meses')['Pontos'].apply(lambda x: x.tolist()).reset_index().sort_values(by='Meses')\n",
    "# df_pontos = pontos_m.groupby('Meses')\n",
    "\n",
    "mes_1_pontuais = len(list(filter(lambda x: x == 'pontual',pontos_m1['Pontos'][0])))\n",
    "mes_1_atrasados = len(list(filter(lambda x: x == 'atrasado',pontos_m1['Pontos'][0])))\n",
    "mes_1_adiantado = len(list(filter(lambda x: x == 'adiantado',pontos_m1['Pontos'][0])))\n",
    "\n",
    "mes_2_pontuais = len(list(filter(lambda x: x == 'pontual',pontos_m1['Pontos'][1])))\n",
    "mes_2_atrasados = len(list(filter(lambda x: x == 'atrasado',pontos_m1['Pontos'][1])))\n",
    "mes_2_adiantado = len(list(filter(lambda x: x == 'adiantado',pontos_m1['Pontos'][1])))\n",
    "\n",
    "mes_3_pontuais = len(list(filter(lambda x: x == 'pontual',pontos_m1['Pontos'][2])))\n",
    "mes_3_atrasados = len(list(filter(lambda x: x == 'atrasado',pontos_m1['Pontos'][2])))\n",
    "mes_3_adiantado = len(list(filter(lambda x: x == 'adiantado',pontos_m1['Pontos'][2])))\n",
    "\n",
    "mes_4_pontuais = len(list(filter(lambda x: x == 'pontual',pontos_m1['Pontos'][3])))\n",
    "mes_4_atrasados = len(list(filter(lambda x: x == 'atrasado',pontos_m1['Pontos'][3])))\n",
    "mes_4_adiantado = len(list(filter(lambda x: x == 'adiantado',pontos_m1['Pontos'][3])))\n",
    "\n",
    "mes_5_pontuais = len(list(filter(lambda x: x == 'pontual',pontos_m1['Pontos'][4])))\n",
    "mes_5_atrasados = len(list(filter(lambda x: x == 'atrasado',pontos_m1['Pontos'][4])))\n",
    "mes_5_adiantado = len(list(filter(lambda x: x == 'adiantado',pontos_m1['Pontos'][4])))\n",
    "\n",
    "mes_6_pontuais = len(list(filter(lambda x: x == 'pontual',pontos_m1['Pontos'][5])))\n",
    "mes_6_atrasados = len(list(filter(lambda x: x == 'atrasado',pontos_m1['Pontos'][5])))\n",
    "mes_6_adiantado = len(list(filter(lambda x: x == 'adiantado',pontos_m1['Pontos'][5])))\n",
    "\n",
    "mes_7_pontuais = len(list(filter(lambda x: x == 'pontual',pontos_m1['Pontos'][6])))\n",
    "mes_7_atrasados = len(list(filter(lambda x: x == 'atrasado',pontos_m1['Pontos'][6])))\n",
    "mes_7_adiantado = len(list(filter(lambda x: x == 'adiantado',pontos_m1['Pontos'][6])))\n",
    "\n",
    "mes_8_pontuais = len(list(filter(lambda x: x == 'pontual',pontos_m1['Pontos'][7])))\n",
    "mes_8_atrasados = len(list(filter(lambda x: x == 'atrasado',pontos_m1['Pontos'][7])))\n",
    "mes_8_adiantado = len(list(filter(lambda x: x == 'adiantado',pontos_m1['Pontos'][7])))\n",
    "\n",
    "mes_9_pontuais = len(list(filter(lambda x: x == 'pontual',pontos_m1['Pontos'][8])))\n",
    "mes_9_atrasados = len(list(filter(lambda x: x == 'atrasado',pontos_m1['Pontos'][8])))\n",
    "mes_9_adiantado = len(list(filter(lambda x: x == 'adiantado',pontos_m1['Pontos'][8])))\n",
    "\n",
    "mes_10_pontuais = len(list(filter(lambda x: x == 'pontual',pontos_m1['Pontos'][9])))\n",
    "mes_10_atrasados = len(list(filter(lambda x: x == 'atrasado',pontos_m1['Pontos'][9])))\n",
    "mes_10_adiantado = len(list(filter(lambda x: x == 'adiantado',pontos_m1['Pontos'][9])))\n",
    "\n",
    "mes_11_pontuais = len(list(filter(lambda x: x == 'pontual',pontos_m1['Pontos'][10])))\n",
    "mes_11_atrasados = len(list(filter(lambda x: x == 'atrasado',pontos_m1['Pontos'][10])))\n",
    "mes_11_adiantado = len(list(filter(lambda x: x == 'adiantado',pontos_m1['Pontos'][10])))\n",
    "\n",
    "mes_12_pontuais = len(list(filter(lambda x: x == 'pontual',pontos_m1['Pontos'][11])))\n",
    "mes_12_atrasados = len(list(filter(lambda x: x == 'atrasado',pontos_m1['Pontos'][11])))\n",
    "mes_12_adiantado = len(list(filter(lambda x: x == 'adiantado',pontos_m1['Pontos'][11])))\n",
    "\n",
    "adiantados_means = (mes_1_adiantado,mes_2_adiantado,mes_3_adiantado,mes_4_adiantado,mes_5_adiantado,mes_6_adiantado,\n",
    "mes_7_adiantado,mes_8_adiantado,mes_9_adiantado,mes_10_adiantado,mes_11_adiantado,mes_12_adiantado)\n",
    "\n",
    "atrasados_means = (mes_1_atrasados,mes_2_atrasados,mes_3_atrasados,mes_4_atrasados,mes_5_atrasados,mes_6_atrasados,\n",
    "mes_7_atrasados,mes_8_atrasados,mes_9_atrasados,mes_10_atrasados,mes_11_atrasados,mes_12_atrasados)\n",
    "\n",
    "pontuais_means = (mes_1_pontuais,mes_2_pontuais,mes_3_pontuais,mes_4_pontuais,mes_5_pontuais,mes_6_pontuais,\n",
    "mes_7_pontuais,mes_8_pontuais,mes_9_pontuais,mes_10_pontuais,mes_11_pontuais,mes_12_pontuais)\n",
    "\n",
    "ind = np.arange(N)\n",
    "\n",
    "width = 0.50\n",
    "\n",
    "atrasados = plt.bar(ind, atrasados_means, width)\n",
    "adiantados = plt.bar(ind,adiantados_means, width)\n",
    "pontuais = plt.bar(ind,pontuais_means, width)\n",
    "\n",
    "plt.ylabel('Quantidade')\n",
    "plt.title('Sintuação por mês')\n",
    "plt.xticks(ind, ('Jan', 'Fev', 'Marc', 'Abr', 'Maio', 'Jun', 'Jul',\n",
    "                 'Agos', 'Set', 'Out', 'Nov', 'Dez'))\n",
    "plt.yticks(np.arange(0,11000,500))\n",
    "plt.legend((atrasados[0],adiantados[0],pontuais[0]), ('Atrasados','Adiantados','Pontuais'))\n",
    "\n",
    "plt.show()"
   ]
  },
  {
   "cell_type": "code",
   "execution_count": null,
   "metadata": {},
   "outputs": [],
   "source": []
  },
  {
   "cell_type": "code",
   "execution_count": null,
   "metadata": {},
   "outputs": [],
   "source": []
  }
 ],
 "metadata": {
  "kernelspec": {
   "display_name": "Python 3",
   "language": "python",
   "name": "python3"
  },
  "language_info": {
   "codemirror_mode": {
    "name": "ipython",
    "version": 3
   },
   "file_extension": ".py",
   "mimetype": "text/x-python",
   "name": "python",
   "nbconvert_exporter": "python",
   "pygments_lexer": "ipython3",
   "version": "3.7.4"
  }
 },
 "nbformat": 4,
 "nbformat_minor": 2
}
