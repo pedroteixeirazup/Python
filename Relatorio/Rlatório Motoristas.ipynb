{
 "cells": [
  {
   "cell_type": "code",
   "execution_count": null,
   "metadata": {},
   "outputs": [],
   "source": [
    "import pandas as pd\n",
    "from datetime import timedelta, datetime\n"
   ]
  },
  {
   "cell_type": "code",
   "execution_count": null,
   "metadata": {},
   "outputs": [],
   "source": []
  },
  {
   "cell_type": "code",
   "execution_count": null,
   "metadata": {},
   "outputs": [],
   "source": [
    "df = pd.read_csv('data/final-dataset1.csv',engine='python')\n",
    "\n",
    "g_m = df[['Motorista', 'Placa Veiculo']].groupby(['Motorista']).count()\n",
    "g_v = df[['Placa Veiculo', 'Motorista']].groupby(['Placa Veiculo']).count()\n",
    "\n",
    "g_m.head()\n",
    "\n",
    "print('Media motoristas por veiculo: ' + str(g_v.mean()))\n",
    "print('Media veiculos por motoristas: ' + str(g_m.mean()))\n",
    "\n",
    "print('----------------------------------------')\n",
    "\n",
    "print('Total de Motoristas:' + str(len(df.Motorista.value_counts())))\n",
    "print('Top 10 Motoristas: ')\n",
    "print(df['Motorista'].value_counts()[:10])\n",
    "\n",
    "print('----------------------------------------')\n",
    "\n",
    "print('Top 10 Veculos: ' + str(len(df['Placa Veiculo'].value_counts())))\n",
    "print(df['Placa Veiculo'].value_counts()[:10])\n",
    "\n",
    "print('----------------------------------------')\n",
    "\n",
    "# print(df[['Motorista', 'Placa Veiculo']].groupby(['Motorista']).head())"
   ]
  },
  {
   "cell_type": "code",
   "execution_count": null,
   "metadata": {},
   "outputs": [],
   "source": []
  }
 ],
 "metadata": {
  "kernelspec": {
   "display_name": "Python 3",
   "language": "python",
   "name": "python3"
  },
  "language_info": {
   "codemirror_mode": {
    "name": "ipython",
    "version": 3
   },
   "file_extension": ".py",
   "mimetype": "text/x-python",
   "name": "python",
   "nbconvert_exporter": "python",
   "pygments_lexer": "ipython3",
   "version": "3.7.4"
  }
 },
 "nbformat": 4,
 "nbformat_minor": 2
}
