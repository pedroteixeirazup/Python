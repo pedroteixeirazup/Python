{
 "cells": [
  {
   "cell_type": "code",
   "execution_count": 49,
   "metadata": {},
   "outputs": [],
   "source": [
    "import pandas as pd\n",
    "import matplotlib.pyplot as plt"
   ]
  },
  {
   "cell_type": "code",
   "execution_count": 50,
   "metadata": {},
   "outputs": [
    {
     "name": "stdout",
     "output_type": "stream",
     "text": [
      "Media motoristas por veiculo: Motorista    5.696749\n",
      "dtype: float64\n",
      "Media veiculos por motoristas: Placa Veiculo    5.556851\n",
      "dtype: float64\n",
      "----------------------------------------\n",
      "Total de Motoristas:23333\n",
      "Top 10 Motoristas: \n",
      "HELIO VIEIRA DA CUNHA          136\n",
      "WEBER MOREIRA                  130\n",
      "NILTON FRANCISCO PIRES         110\n",
      "ARI JOSE SOARES                110\n",
      "ANICETO OLIVEIRA DOS SANTOS    105\n",
      "ELIEZER GRACIANO PEREIRA       104\n",
      "MANOEL LUCIANO DA CRUZ         100\n",
      "ANTONIO CARLOS NUNES FRANCO    100\n",
      "JOAO GILBERTO RODRIGUES         95\n",
      "RODRIGO CAMPOS RIBEIRO          95\n",
      "Name: Motorista, dtype: int64\n",
      "----------------------------------------\n",
      "Top 10 Veculos: 22760\n",
      "GOO-6791    136\n",
      "AEW-2663    110\n",
      "NGU-2887    110\n",
      "ITE-7438    105\n",
      "GWI-8273    103\n",
      "ITD-7610     99\n",
      "JRU-0079     97\n",
      "CVN-3883     95\n",
      "JRJ-5013     94\n",
      "CYN-9474     94\n",
      "Name: Placa Veiculo, dtype: int64\n",
      "----------------------------------------\n"
     ]
    }
   ],
   "source": [
    "df = pd.read_csv('data/final-dataset1.csv',engine='python')\n",
    "\n",
    "g_m = df[['Motorista', 'Placa Veiculo']].groupby(['Motorista']).count()\n",
    "g_v = df[['Placa Veiculo', 'Motorista']].groupby(['Placa Veiculo']).count()\n",
    "\n",
    "print('Media motoristas por veiculo: ' + str(g_v.mean()))\n",
    "print('Media veiculos por motoristas: ' + str(g_m.mean()))\n",
    "\n",
    "print('----------------------------------------')\n",
    "\n",
    "print('Total de Motoristas:' + str(len(df.Motorista.value_counts())))\n",
    "print('Top 10 Motoristas: ')\n",
    "print(df['Motorista'].value_counts()[:10])\n",
    "\n",
    "print('----------------------------------------')\n",
    "\n",
    "print('Top 10 Veculos: ' + str(len(df['Placa Veiculo'].value_counts())))\n",
    "print(df['Placa Veiculo'].value_counts()[:10])\n",
    "\n",
    "print('----------------------------------------')\n",
    "\n",
    "# print(df[['Motorista', 'Placa Veiculo']].groupby(['Motorista']).head())"
   ]
  },
  {
   "cell_type": "code",
   "execution_count": null,
   "metadata": {},
   "outputs": [],
   "source": []
  }
 ],
 "metadata": {
  "kernelspec": {
   "display_name": "Python 3",
   "language": "python",
   "name": "python3"
  },
  "language_info": {
   "codemirror_mode": {
    "name": "ipython",
    "version": 3
   },
   "file_extension": ".py",
   "mimetype": "text/x-python",
   "name": "python",
   "nbconvert_exporter": "python",
   "pygments_lexer": "ipython3",
   "version": "3.7.4"
  }
 },
 "nbformat": 4,
 "nbformat_minor": 2
}
