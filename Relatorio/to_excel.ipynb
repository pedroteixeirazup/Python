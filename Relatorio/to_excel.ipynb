{
 "cells": [
  {
   "cell_type": "code",
   "execution_count": 1,
   "metadata": {
    "extensions": {
     "jupyter_dashboards": {
      "version": 1,
      "views": {
       "grid_default": {},
       "report_default": {}
      }
     }
    }
   },
   "outputs": [],
   "source": [
    "import pandas as pd"
   ]
  },
  {
   "cell_type": "code",
   "execution_count": 2,
   "metadata": {
    "extensions": {
     "jupyter_dashboards": {
      "version": 1,
      "views": {
       "grid_default": {},
       "report_default": {}
      }
     }
    }
   },
   "outputs": [],
   "source": [
    "file_01 = r'data/01. Viagens TIA.xls'\n",
    "file_02 = r'data/02. Viagens TIA.xls'\n",
    "file_03 = r'data/03. Viagens TIA.xls'\n",
    "file_04 = r'data/04. Viagens TIA.xls'\n",
    "file_05 = r'data/05. Viagens TIA.xls'\n",
    "file_06 = r'data/06. Viagens TIA.xls'\n",
    "file_07 = r'data/07. Viagens TIA.xls'\n",
    "file_08 = r'data/08. Viagens TIA.xls'\n",
    "file_09 = r'data/09. Viagens TIA.xls'\n",
    "\n",
    "df_01 = pd.read_excel(file_01).iloc[2:]\n",
    "df_02 = pd.read_excel(file_02).iloc[2:]\n",
    "df_03 = pd.read_excel(file_03).iloc[2:]\n",
    "df_04 = pd.read_excel(file_04).iloc[2:]\n",
    "df_05 = pd.read_excel(file_05).iloc[2:]\n",
    "df_06 = pd.read_excel(file_06).iloc[2:]\n",
    "df_07 = pd.read_excel(file_07).iloc[2:]\n",
    "df_08 = pd.read_excel(file_08).iloc[2:]\n",
    "df_09 = pd.read_excel(file_09).iloc[2:]"
   ]
  },
  {
   "cell_type": "code",
   "execution_count": 3,
   "metadata": {
    "extensions": {
     "jupyter_dashboards": {
      "version": 1,
      "views": {
       "grid_default": {},
       "report_default": {}
      }
     }
    }
   },
   "outputs": [],
   "source": [
    "result = pd.concat([df_01,df_02,df_03,\n",
    "                   df_04,df_05,df_06,\n",
    "                   df_07,df_08,df_09],join='outer',sort=True)"
   ]
  },
  {
   "cell_type": "code",
   "execution_count": 6,
   "metadata": {
    "extensions": {
     "jupyter_dashboards": {
      "version": 1,
      "views": {
       "grid_default": {},
       "report_default": {}
      }
     }
    }
   },
   "outputs": [
    {
     "data": {
      "text/html": [
       "<div>\n",
       "<style scoped>\n",
       "    .dataframe tbody tr th:only-of-type {\n",
       "        vertical-align: middle;\n",
       "    }\n",
       "\n",
       "    .dataframe tbody tr th {\n",
       "        vertical-align: top;\n",
       "    }\n",
       "\n",
       "    .dataframe thead th {\n",
       "        text-align: right;\n",
       "    }\n",
       "</style>\n",
       "<table border=\"1\" class=\"dataframe\">\n",
       "  <thead>\n",
       "    <tr style=\"text-align: right;\">\n",
       "      <th></th>\n",
       "      <th>Agendamento</th>\n",
       "      <th>Agendamento.1</th>\n",
       "      <th>Ausência de Chegada ao Terminal</th>\n",
       "      <th>Ausência de Chegada ao Terminal.1</th>\n",
       "      <th>Cancelamento</th>\n",
       "      <th>Cancelamento.1</th>\n",
       "      <th>Chamada do Terminal</th>\n",
       "      <th>Chamada do Terminal.1</th>\n",
       "      <th>Chamada não Atendida</th>\n",
       "      <th>Chamada não Atendida.1</th>\n",
       "      <th>...</th>\n",
       "      <th>Saída Prevista</th>\n",
       "      <th>Saída do Terminal</th>\n",
       "      <th>Saída do Terminal.1</th>\n",
       "      <th>Transportadora</th>\n",
       "      <th>Viagem Irregular Abortada</th>\n",
       "      <th>Viagem Irregular Abortada.1</th>\n",
       "      <th>Viagem Irregular Aprovada</th>\n",
       "      <th>Viagem Irregular Aprovada.1</th>\n",
       "      <th>Viagem Irregular Rejeitada</th>\n",
       "      <th>Viagem Irregular Rejeitada.1</th>\n",
       "    </tr>\n",
       "  </thead>\n",
       "  <tbody>\n",
       "    <tr>\n",
       "      <td>14992</td>\n",
       "      <td>06/10/2019 08:09:59</td>\n",
       "      <td>jair.buche</td>\n",
       "      <td>NaN</td>\n",
       "      <td>NaN</td>\n",
       "      <td>NaN</td>\n",
       "      <td>NaN</td>\n",
       "      <td>06/10/2019 13:37:05</td>\n",
       "      <td>Admin</td>\n",
       "      <td>NaN</td>\n",
       "      <td>NaN</td>\n",
       "      <td>...</td>\n",
       "      <td>06/10/2019 08:09:00</td>\n",
       "      <td>06/10/2019 16:14:31</td>\n",
       "      <td>Admin</td>\n",
       "      <td>SOTRAN S/A LOGISTICA E TRANSPORTE (03.286.888/...</td>\n",
       "      <td>NaN</td>\n",
       "      <td>NaN</td>\n",
       "      <td>NaN</td>\n",
       "      <td>NaN</td>\n",
       "      <td>NaN</td>\n",
       "      <td>NaN</td>\n",
       "    </tr>\n",
       "    <tr>\n",
       "      <td>14993</td>\n",
       "      <td>06/10/2019 09:55:09</td>\n",
       "      <td>ari.junior</td>\n",
       "      <td>NaN</td>\n",
       "      <td>NaN</td>\n",
       "      <td>NaN</td>\n",
       "      <td>NaN</td>\n",
       "      <td>06/10/2019 17:24:08</td>\n",
       "      <td>Admin</td>\n",
       "      <td>NaN</td>\n",
       "      <td>NaN</td>\n",
       "      <td>...</td>\n",
       "      <td>06/10/2019 09:53:00</td>\n",
       "      <td>06/10/2019 18:18:46</td>\n",
       "      <td>Admin</td>\n",
       "      <td>TRANSPORTADORA 1500</td>\n",
       "      <td>NaN</td>\n",
       "      <td>NaN</td>\n",
       "      <td>NaN</td>\n",
       "      <td>NaN</td>\n",
       "      <td>NaN</td>\n",
       "      <td>NaN</td>\n",
       "    </tr>\n",
       "    <tr>\n",
       "      <td>14994</td>\n",
       "      <td>06/10/2019 12:37:56</td>\n",
       "      <td>anderson.castro</td>\n",
       "      <td>NaN</td>\n",
       "      <td>NaN</td>\n",
       "      <td>NaN</td>\n",
       "      <td>NaN</td>\n",
       "      <td>06/10/2019 14:50:08</td>\n",
       "      <td>Admin</td>\n",
       "      <td>NaN</td>\n",
       "      <td>NaN</td>\n",
       "      <td>...</td>\n",
       "      <td>05/10/2019 12:36:00</td>\n",
       "      <td>06/10/2019 16:15:50</td>\n",
       "      <td>Admin</td>\n",
       "      <td>TRANSPORTADORA TRANSVALE (76.302.157/0008-00)</td>\n",
       "      <td>NaN</td>\n",
       "      <td>NaN</td>\n",
       "      <td>06/10/2019 14:42:08</td>\n",
       "      <td>Admin</td>\n",
       "      <td>NaN</td>\n",
       "      <td>NaN</td>\n",
       "    </tr>\n",
       "    <tr>\n",
       "      <td>14995</td>\n",
       "      <td>06/10/2019 21:09:38</td>\n",
       "      <td>elizandro.silva</td>\n",
       "      <td>NaN</td>\n",
       "      <td>NaN</td>\n",
       "      <td>NaN</td>\n",
       "      <td>NaN</td>\n",
       "      <td>06/10/2019 21:35:12</td>\n",
       "      <td>Admin</td>\n",
       "      <td>NaN</td>\n",
       "      <td>NaN</td>\n",
       "      <td>...</td>\n",
       "      <td>06/10/2019 00:08:00</td>\n",
       "      <td>06/10/2019 23:14:49</td>\n",
       "      <td>Admin</td>\n",
       "      <td>SARTCO - ADM BRASIL LTDA</td>\n",
       "      <td>NaN</td>\n",
       "      <td>NaN</td>\n",
       "      <td>06/10/2019 21:25:39</td>\n",
       "      <td>30513409</td>\n",
       "      <td>NaN</td>\n",
       "      <td>NaN</td>\n",
       "    </tr>\n",
       "    <tr>\n",
       "      <td>14996</td>\n",
       "      <td>07/10/2019 16:57:31</td>\n",
       "      <td>gustavo.dutra</td>\n",
       "      <td>NaN</td>\n",
       "      <td>NaN</td>\n",
       "      <td>NaN</td>\n",
       "      <td>NaN</td>\n",
       "      <td>07/10/2019 23:29:16</td>\n",
       "      <td>30513409</td>\n",
       "      <td>NaN</td>\n",
       "      <td>NaN</td>\n",
       "      <td>...</td>\n",
       "      <td>06/10/2019 00:00:00</td>\n",
       "      <td>08/10/2019 01:27:19</td>\n",
       "      <td>Admin</td>\n",
       "      <td>TRANSPORTES RODOVIARIOS VALE DO PIQUIRI</td>\n",
       "      <td>NaN</td>\n",
       "      <td>NaN</td>\n",
       "      <td>07/10/2019 22:56:49</td>\n",
       "      <td>30513409</td>\n",
       "      <td>NaN</td>\n",
       "      <td>NaN</td>\n",
       "    </tr>\n",
       "  </tbody>\n",
       "</table>\n",
       "<p>5 rows × 51 columns</p>\n",
       "</div>"
      ],
      "text/plain": [
       "               Agendamento    Agendamento.1 Ausência de Chegada ao Terminal  \\\n",
       "14992  06/10/2019 08:09:59       jair.buche                             NaN   \n",
       "14993  06/10/2019 09:55:09       ari.junior                             NaN   \n",
       "14994  06/10/2019 12:37:56  anderson.castro                             NaN   \n",
       "14995  06/10/2019 21:09:38  elizandro.silva                             NaN   \n",
       "14996  07/10/2019 16:57:31    gustavo.dutra                             NaN   \n",
       "\n",
       "      Ausência de Chegada ao Terminal.1  Cancelamento  Cancelamento.1  \\\n",
       "14992                               NaN           NaN             NaN   \n",
       "14993                               NaN           NaN             NaN   \n",
       "14994                               NaN           NaN             NaN   \n",
       "14995                               NaN           NaN             NaN   \n",
       "14996                               NaN           NaN             NaN   \n",
       "\n",
       "       Chamada do Terminal Chamada do Terminal.1 Chamada não Atendida  \\\n",
       "14992  06/10/2019 13:37:05                 Admin                  NaN   \n",
       "14993  06/10/2019 17:24:08                 Admin                  NaN   \n",
       "14994  06/10/2019 14:50:08                 Admin                  NaN   \n",
       "14995  06/10/2019 21:35:12                 Admin                  NaN   \n",
       "14996  07/10/2019 23:29:16              30513409                  NaN   \n",
       "\n",
       "      Chamada não Atendida.1  ...       Saída Prevista    Saída do Terminal  \\\n",
       "14992                    NaN  ...  06/10/2019 08:09:00  06/10/2019 16:14:31   \n",
       "14993                    NaN  ...  06/10/2019 09:53:00  06/10/2019 18:18:46   \n",
       "14994                    NaN  ...  05/10/2019 12:36:00  06/10/2019 16:15:50   \n",
       "14995                    NaN  ...  06/10/2019 00:08:00  06/10/2019 23:14:49   \n",
       "14996                    NaN  ...  06/10/2019 00:00:00  08/10/2019 01:27:19   \n",
       "\n",
       "      Saída do Terminal.1                                     Transportadora  \\\n",
       "14992               Admin  SOTRAN S/A LOGISTICA E TRANSPORTE (03.286.888/...   \n",
       "14993               Admin                                TRANSPORTADORA 1500   \n",
       "14994               Admin      TRANSPORTADORA TRANSVALE (76.302.157/0008-00)   \n",
       "14995               Admin                           SARTCO - ADM BRASIL LTDA   \n",
       "14996               Admin            TRANSPORTES RODOVIARIOS VALE DO PIQUIRI   \n",
       "\n",
       "      Viagem Irregular Abortada Viagem Irregular Abortada.1  \\\n",
       "14992                       NaN                         NaN   \n",
       "14993                       NaN                         NaN   \n",
       "14994                       NaN                         NaN   \n",
       "14995                       NaN                         NaN   \n",
       "14996                       NaN                         NaN   \n",
       "\n",
       "      Viagem Irregular Aprovada Viagem Irregular Aprovada.1  \\\n",
       "14992                       NaN                         NaN   \n",
       "14993                       NaN                         NaN   \n",
       "14994       06/10/2019 14:42:08                       Admin   \n",
       "14995       06/10/2019 21:25:39                    30513409   \n",
       "14996       07/10/2019 22:56:49                    30513409   \n",
       "\n",
       "      Viagem Irregular Rejeitada Viagem Irregular Rejeitada.1  \n",
       "14992                        NaN                          NaN  \n",
       "14993                        NaN                          NaN  \n",
       "14994                        NaN                          NaN  \n",
       "14995                        NaN                          NaN  \n",
       "14996                        NaN                          NaN  \n",
       "\n",
       "[5 rows x 51 columns]"
      ]
     },
     "execution_count": 6,
     "metadata": {},
     "output_type": "execute_result"
    }
   ],
   "source": [
    "# writer = pd.ExcelWriter('viagens_2019.xlsx')\n",
    "# result.to_excel(writer,'Sheet1',index=False)\n",
    "# writer.save()\n",
    "result.tail()"
   ]
  },
  {
   "cell_type": "code",
   "execution_count": null,
   "metadata": {},
   "outputs": [],
   "source": []
  }
 ],
 "metadata": {
  "extensions": {
   "jupyter_dashboards": {
    "activeView": "grid_default",
    "version": 1,
    "views": {
     "grid_default": {
      "cellMargin": 10,
      "defaultCellHeight": 20,
      "maxColumns": 12,
      "name": "grid",
      "type": "grid"
     },
     "report_default": {
      "name": "report",
      "type": "report"
     }
    }
   }
  },
  "kernelspec": {
   "display_name": "Python 3",
   "language": "python",
   "name": "python3"
  },
  "language_info": {
   "codemirror_mode": {
    "name": "ipython",
    "version": 3
   },
   "file_extension": ".py",
   "mimetype": "text/x-python",
   "name": "python",
   "nbconvert_exporter": "python",
   "pygments_lexer": "ipython3",
   "version": "3.7.4"
  }
 },
 "nbformat": 4,
 "nbformat_minor": 2
}
